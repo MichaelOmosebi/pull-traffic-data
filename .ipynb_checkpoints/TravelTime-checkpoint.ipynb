{
 "cells": [
  {
   "cell_type": "markdown",
   "id": "20833a46-a31e-4564-b364-8d3de8495b8f",
   "metadata": {
    "tags": []
   },
   "source": [
    "## LAGOS TRAFFIC DATA _ BUSY ROADS"
   ]
  },
  {
   "cell_type": "markdown",
   "id": "21e01773-5d8b-487e-9cdc-37a4d327b0d8",
   "metadata": {
    "tags": []
   },
   "source": [
    "### Import Required Libraries"
   ]
  },
  {
   "cell_type": "code",
   "execution_count": 1,
   "id": "f81d9168-c5df-4faf-b04c-0151c827bdb7",
   "metadata": {},
   "outputs": [],
   "source": [
    "# importing required libraries\n",
    "import requests, json\n",
    "import googlemaps\n",
    "from bs4 import BeautifulSoup\n",
    "import pandas as pd\n",
    "\n",
    "# Import datetime class from datetime module\n",
    "from datetime import datetime, date\n",
    "import time\n",
    "\n",
    "#Import dependencies required to read google sheet\n",
    "import os\n",
    "from Google import Create_Service\n",
    "\n",
    "#Import dependencies required to interact with google sheet\n",
    "import gspread\n",
    "from gspread_dataframe import set_with_dataframe\n",
    "from google.oauth2.service_account import Credentials\n",
    "from pydrive.auth import GoogleAuth\n",
    "from pydrive.drive import GoogleDrive\n",
    "\n",
    "#BingAPI key\n",
    "import bing_key as bk"
   ]
  },
  {
   "cell_type": "markdown",
   "id": "fe45c30e-9e34-4fbf-b2e0-92349ce6929c",
   "metadata": {
    "tags": []
   },
   "source": [
    "### 2) Read Coordinates of Selected Location from gzGeocode GOOGLESHEETS"
   ]
  },
  {
   "cell_type": "markdown",
   "id": "ad040fd5-1c1e-49e7-b491-39ce0357c9a9",
   "metadata": {},
   "source": [
    "#### Option A - Read Directly From the Online(GoogleDrive) File\n",
    "\n",
    "The file is available on GoogleDrive as the service that allows to generate coordinates of inputted location is an add-in on the GoogleSheets tool."
   ]
  },
  {
   "cell_type": "code",
   "execution_count": null,
   "id": "43aaf591-5f06-4d69-aa5f-1de24a3e440e",
   "metadata": {},
   "outputs": [],
   "source": [
    "#Read location coordinates from googlesheets (Geocode extension)\n",
    "\n",
    "CLIENT_SECRET_FILE = 'client_secret1.json'\n",
    "API_NAME = 'sheets'\n",
    "API_VERSION = 'v4'\n",
    "SCOPES = ['https://www.googleapis.com/auth/spreadsheets']\n",
    "\n",
    "service = Create_Service(CLIENT_SECRET_FILE, API_NAME, API_VERSION, SCOPES)\n",
    "\n",
    "spreadsheet_id = '134B8kr374Wi5BuqhIdPDCijs6K8aYzBKkEr5zW9vAG4'\n",
    "sheet_id = '44602522'\n",
    "\n",
    "response = service.spreadsheets().values().get(\n",
    "    spreadsheetId=spreadsheet_id,\n",
    "    majorDimension='ROWS',\n",
    "    range='Sheet1!A1:F30'\n",
    ").execute()\n",
    "print(response)"
   ]
  },
  {
   "cell_type": "markdown",
   "id": "9b9bfae9-8ecb-471b-95d8-1ccb58d899f0",
   "metadata": {},
   "source": [
    "#### Option B - Download the File and Read from a Local Directory or From a Direct Address URL.\n"
   ]
  },
  {
   "cell_type": "code",
   "execution_count": 2,
   "id": "7b2f16b2-dd64-450b-a74f-788886e78a7c",
   "metadata": {},
   "outputs": [
    {
     "data": {
      "text/plain": [
       "'6.4702531,3.2818048'"
      ]
     },
     "execution_count": 2,
     "metadata": {},
     "output_type": "execute_result"
    }
   ],
   "source": [
    "#Format the coordinates data into dataframe\n",
    "coordinates_file = pd.read_excel('Geocode_details.xlsx')\n",
    "\n",
    "#convert to dataframe\n",
    "coordinates = coordinates_file[[\"Place\", \"Coordinates\"]].set_index('Place').to_dict()['Coordinates']\n",
    "coord_list = {a:coordinates[a].replace(', ',',') for a in list(coordinates.keys())}\n",
    "coord_list['festac']"
   ]
  },
  {
   "cell_type": "code",
   "execution_count": 3,
   "id": "1d445ef2-7c87-43bd-bf79-7edd6e0a9b37",
   "metadata": {},
   "outputs": [],
   "source": [
    "# Declare variable names for each location identified in the coordinates file\n",
    "festac = coord_list['festac']\n",
    "ikoyi = coord_list['ikoyi']\n",
    "lekki = coord_list['lekki']\n",
    "apapa = coord_list['apapa']\n",
    "lagos_island = coord_list['lagos_island']\n",
    "ikeja = coord_list['ikeja']\n",
    "yaba = coord_list['yaba']\n",
    "surulere = coord_list['surulere']\n",
    "alaba = coord_list['alaba']\n",
    "oshodi = coord_list['oshodi']\n",
    "ketu_ojota = coord_list['ketu_ojota']\n",
    "alagbado = coord_list['alagbado']\n",
    "ikorodu = coord_list['ikorodu']\n",
    "ojodu = coord_list['ojodu']\n",
    "oworo = coord_list['oworo']\n",
    "ajah = coord_list['ajah']\n",
    "gbagada = coord_list['gbagada']\n",
    "agege = coord_list['agege']\n",
    "ojoo_iba = coord_list['ojoo_iba']\n",
    "ikotun = coord_list['ikotun']\n",
    "badagry = coord_list['badagry']\n",
    "abule_egba = coord_list['abule_egba']\n",
    "ipaja = coord_list['ipaja']\n",
    "idiaraba = coord_list['idiaraba']\n",
    "VI = coord_list['VI']"
   ]
  },
  {
   "cell_type": "markdown",
   "id": "b8f8a573-3652-4071-9a8c-cc98a50358ec",
   "metadata": {
    "tags": []
   },
   "source": [
    "### 3) Fetch Distance-Time_Travel Data from BingMaps API"
   ]
  },
  {
   "cell_type": "markdown",
   "id": "4b05bf38-1fac-42e4-86d6-3cacdee8b684",
   "metadata": {},
   "source": [
    "#### 3.1) Set-up the API URL"
   ]
  },
  {
   "cell_type": "code",
   "execution_count": 4,
   "id": "87ade130-66c4-46f6-8af0-c91359dca2ea",
   "metadata": {},
   "outputs": [
    {
     "name": "stdout",
     "output_type": "stream",
     "text": [
      "https://dev.virtualearth.net/REST/v1/Routes/DistanceMatrix?origins=6.4702531,3.2818048;6.4441991,3.4271887;6.4478093,3.4723495;6.4436172,3.3664707;6.4571606,3.3841554;6.578997,3.3494666;6.515759,3.3898447;6.4926317,3.3489671;6.4633507,3.324884;6.535498,3.3086778;6.5873161,3.3785711;6.6584403,3.2633918;6.6194131,3.5104537;6.6470273,3.3741647;6.5536278,3.4006205;6.4645874,3.5725244;6.552517,3.3871859;6.6179731,3.3208916;6.4696511,3.2008727;6.5630684,3.2505651;6.4136764,2.8972858;6.6392905,3.2961968;6.6130699,3.2659066;6.5176223,3.3537453;6.4280556,3.4219444&destinations=6.4702531,3.2818048;6.4441991,3.4271887;6.4478093,3.4723495;6.4436172,3.3664707;6.4571606,3.3841554;6.578997,3.3494666;6.515759,3.3898447;6.4926317,3.3489671;6.4633507,3.324884;6.535498,3.3086778;6.5873161,3.3785711;6.6584403,3.2633918;6.6194131,3.5104537;6.6470273,3.3741647;6.5536278,3.4006205;6.4645874,3.5725244;6.552517,3.3871859;6.6179731,3.3208916;6.4696511,3.2008727;6.5630684,3.2505651;6.4136764,2.8972858;6.6392905,3.2961968;6.6130699,3.2659066;6.5176223,3.3537453;6.4280556,3.4219444&travelMode=driving&key=Anr-ZjjbdL-QNuu2BZ9jvFfN4VmeIClsBinJOjqeOzZRNuQ5J1NddYKdyxLc0vji\n"
     ]
    }
   ],
   "source": [
    "#BingMaps Key\n",
    "bingmaps_api_key = bk.map_key\n",
    "\n",
    "#Construct the URL as required by the API\n",
    "url = f'https://dev.virtualearth.net/REST/v1/Routes/DistanceMatrix?\\\n",
    "origins={festac};{ikoyi};{lekki};{apapa};{lagos_island};{ikeja};{yaba};{surulere};{alaba};{oshodi};{ketu_ojota};{alagbado};\\\n",
    "{ikorodu};{ojodu};{oworo};{ajah};{gbagada};{agege};{ojoo_iba};{ikotun};{badagry};{abule_egba};{ipaja};{idiaraba};{VI}\\\n",
    "&destinations={festac};{ikoyi};{lekki};{apapa};{lagos_island};{ikeja};{yaba};{surulere};{alaba};{oshodi};{ketu_ojota};{alagbado};\\\n",
    "{ikorodu};{ojodu};{oworo};{ajah};{gbagada};{agege};{ojoo_iba};{ikotun};{badagry};{abule_egba};{ipaja};{idiaraba};{VI}\\\n",
    "&travelMode=driving&key={bingmaps_api_key}'\n",
    "\n",
    "print(url)"
   ]
  },
  {
   "cell_type": "markdown",
   "id": "0108f2ca-cbf9-43d8-9d71-ad32825fffd2",
   "metadata": {},
   "source": [
    "#### 3.2) Send a Request to the API"
   ]
  },
  {
   "cell_type": "code",
   "execution_count": 5,
   "id": "4add9aab-57f3-4f58-bb26-ba654135c996",
   "metadata": {},
   "outputs": [],
   "source": [
    "#Send the request and Store data\n",
    "resp = requests.get(url)\n",
    "result = resp.content\n",
    "\n",
    "# Use the json module to load response into a dictionary.\n",
    "response_dict = json.loads(result)\n",
    "\n",
    "data = response_dict['resourceSets'][0]['resources'][0]['results']#[]"
   ]
  },
  {
   "cell_type": "markdown",
   "id": "a9216a76-d687-4209-bcd0-e54bcab0be27",
   "metadata": {},
   "source": [
    "#### 3.3) Store the Data into a Dataframe and Create a Timestamp Column"
   ]
  },
  {
   "cell_type": "code",
   "execution_count": 6,
   "id": "c59c5ab3-9575-4f5d-987f-3d063836a528",
   "metadata": {},
   "outputs": [
    {
     "data": {
      "text/html": [
       "<div>\n",
       "<style scoped>\n",
       "    .dataframe tbody tr th:only-of-type {\n",
       "        vertical-align: middle;\n",
       "    }\n",
       "\n",
       "    .dataframe tbody tr th {\n",
       "        vertical-align: top;\n",
       "    }\n",
       "\n",
       "    .dataframe thead th {\n",
       "        text-align: right;\n",
       "    }\n",
       "</style>\n",
       "<table border=\"1\" class=\"dataframe\">\n",
       "  <thead>\n",
       "    <tr style=\"text-align: right;\">\n",
       "      <th></th>\n",
       "      <th>destinationIndex</th>\n",
       "      <th>originIndex</th>\n",
       "      <th>travelDistance</th>\n",
       "      <th>travelDuration</th>\n",
       "      <th>Time</th>\n",
       "      <th>Date</th>\n",
       "    </tr>\n",
       "  </thead>\n",
       "  <tbody>\n",
       "    <tr>\n",
       "      <th>0</th>\n",
       "      <td>0</td>\n",
       "      <td>0</td>\n",
       "      <td>0.000</td>\n",
       "      <td>0.0000</td>\n",
       "      <td>12:28:56</td>\n",
       "      <td>2023-08-18</td>\n",
       "    </tr>\n",
       "    <tr>\n",
       "      <th>1</th>\n",
       "      <td>1</td>\n",
       "      <td>0</td>\n",
       "      <td>23.499</td>\n",
       "      <td>22.8667</td>\n",
       "      <td>12:28:56</td>\n",
       "      <td>2023-08-18</td>\n",
       "    </tr>\n",
       "    <tr>\n",
       "      <th>2</th>\n",
       "      <td>2</td>\n",
       "      <td>0</td>\n",
       "      <td>30.025</td>\n",
       "      <td>29.6833</td>\n",
       "      <td>12:28:56</td>\n",
       "      <td>2023-08-18</td>\n",
       "    </tr>\n",
       "    <tr>\n",
       "      <th>3</th>\n",
       "      <td>3</td>\n",
       "      <td>0</td>\n",
       "      <td>15.615</td>\n",
       "      <td>15.6833</td>\n",
       "      <td>12:28:56</td>\n",
       "      <td>2023-08-18</td>\n",
       "    </tr>\n",
       "    <tr>\n",
       "      <th>4</th>\n",
       "      <td>4</td>\n",
       "      <td>0</td>\n",
       "      <td>18.670</td>\n",
       "      <td>19.2667</td>\n",
       "      <td>12:28:56</td>\n",
       "      <td>2023-08-18</td>\n",
       "    </tr>\n",
       "  </tbody>\n",
       "</table>\n",
       "</div>"
      ],
      "text/plain": [
       "   destinationIndex  originIndex  travelDistance  travelDuration      Time  \\\n",
       "0                 0            0           0.000          0.0000  12:28:56   \n",
       "1                 1            0          23.499         22.8667  12:28:56   \n",
       "2                 2            0          30.025         29.6833  12:28:56   \n",
       "3                 3            0          15.615         15.6833  12:28:56   \n",
       "4                 4            0          18.670         19.2667  12:28:56   \n",
       "\n",
       "         Date  \n",
       "0  2023-08-18  \n",
       "1  2023-08-18  \n",
       "2  2023-08-18  \n",
       "3  2023-08-18  \n",
       "4  2023-08-18  "
      ]
     },
     "execution_count": 6,
     "metadata": {},
     "output_type": "execute_result"
    }
   ],
   "source": [
    "#Convert data to dataframe and format\n",
    "df = pd.DataFrame(data)\n",
    "#df.drop(['totalWalkDuration'], axis=1)\n",
    "df = df[['destinationIndex', 'originIndex', 'travelDistance', 'travelDuration']]\n",
    "\n",
    "#Add date/time columns\n",
    "df['Time'] = datetime.now().strftime(\"%H:%M:%S\")\n",
    "df['Date'] = date.today()\n",
    "df.head()"
   ]
  },
  {
   "cell_type": "markdown",
   "id": "0dc0cf46-ba0d-4941-9cbd-174543bdd205",
   "metadata": {
    "tags": []
   },
   "source": [
    "#### 3.4) Change the ```Origin``` and ```Destination``` from index Codes to Real Names"
   ]
  },
  {
   "cell_type": "markdown",
   "id": "331d7903-5bc1-4da0-9c8a-072ca1083bcb",
   "metadata": {},
   "source": [
    "##### 3.4.1) Create a Mapping Dictionary -> {index:name}"
   ]
  },
  {
   "cell_type": "code",
   "execution_count": 9,
   "id": "403d3522-7d31-4a5e-bc6d-60e2d6a29ae0",
   "metadata": {},
   "outputs": [],
   "source": [
    "#form dictionary to map destination and origin index in the API result\n",
    "location_mapping = coordinates_file['Place'].to_dict()"
   ]
  },
  {
   "cell_type": "markdown",
   "id": "e1919e82-a731-4bc4-ae35-41c785e8e9ed",
   "metadata": {},
   "source": [
    "##### 3.4.2) Map the index with the Real Location Names and Rearrange columns"
   ]
  },
  {
   "cell_type": "code",
   "execution_count": 10,
   "id": "c43dfd42-8823-46c7-b6ff-02ac0f56ee3c",
   "metadata": {},
   "outputs": [
    {
     "data": {
      "text/html": [
       "<div>\n",
       "<style scoped>\n",
       "    .dataframe tbody tr th:only-of-type {\n",
       "        vertical-align: middle;\n",
       "    }\n",
       "\n",
       "    .dataframe tbody tr th {\n",
       "        vertical-align: top;\n",
       "    }\n",
       "\n",
       "    .dataframe thead th {\n",
       "        text-align: right;\n",
       "    }\n",
       "</style>\n",
       "<table border=\"1\" class=\"dataframe\">\n",
       "  <thead>\n",
       "    <tr style=\"text-align: right;\">\n",
       "      <th></th>\n",
       "      <th>origin</th>\n",
       "      <th>destination</th>\n",
       "      <th>travelDistance(km)</th>\n",
       "      <th>travelDuration(mins)</th>\n",
       "      <th>Date</th>\n",
       "      <th>Time</th>\n",
       "    </tr>\n",
       "  </thead>\n",
       "  <tbody>\n",
       "    <tr>\n",
       "      <th>0</th>\n",
       "      <td>festac</td>\n",
       "      <td>festac</td>\n",
       "      <td>0.000</td>\n",
       "      <td>0.0000</td>\n",
       "      <td>2023-08-18</td>\n",
       "      <td>12:28:56</td>\n",
       "    </tr>\n",
       "    <tr>\n",
       "      <th>1</th>\n",
       "      <td>festac</td>\n",
       "      <td>ikoyi</td>\n",
       "      <td>23.499</td>\n",
       "      <td>22.8667</td>\n",
       "      <td>2023-08-18</td>\n",
       "      <td>12:28:56</td>\n",
       "    </tr>\n",
       "    <tr>\n",
       "      <th>2</th>\n",
       "      <td>festac</td>\n",
       "      <td>lekki</td>\n",
       "      <td>30.025</td>\n",
       "      <td>29.6833</td>\n",
       "      <td>2023-08-18</td>\n",
       "      <td>12:28:56</td>\n",
       "    </tr>\n",
       "    <tr>\n",
       "      <th>3</th>\n",
       "      <td>festac</td>\n",
       "      <td>apapa</td>\n",
       "      <td>15.615</td>\n",
       "      <td>15.6833</td>\n",
       "      <td>2023-08-18</td>\n",
       "      <td>12:28:56</td>\n",
       "    </tr>\n",
       "    <tr>\n",
       "      <th>4</th>\n",
       "      <td>festac</td>\n",
       "      <td>lagos_island</td>\n",
       "      <td>18.670</td>\n",
       "      <td>19.2667</td>\n",
       "      <td>2023-08-18</td>\n",
       "      <td>12:28:56</td>\n",
       "    </tr>\n",
       "  </tbody>\n",
       "</table>\n",
       "</div>"
      ],
      "text/plain": [
       "   origin   destination  travelDistance(km)  travelDuration(mins)        Date  \\\n",
       "0  festac        festac               0.000                0.0000  2023-08-18   \n",
       "1  festac         ikoyi              23.499               22.8667  2023-08-18   \n",
       "2  festac         lekki              30.025               29.6833  2023-08-18   \n",
       "3  festac         apapa              15.615               15.6833  2023-08-18   \n",
       "4  festac  lagos_island              18.670               19.2667  2023-08-18   \n",
       "\n",
       "       Time  \n",
       "0  12:28:56  \n",
       "1  12:28:56  \n",
       "2  12:28:56  \n",
       "3  12:28:56  \n",
       "4  12:28:56  "
      ]
     },
     "execution_count": 10,
     "metadata": {},
     "output_type": "execute_result"
    }
   ],
   "source": [
    "#lookup the names with the index values in the API result\n",
    "df['origin'] = df['originIndex'].map(location_mapping)\n",
    "df['destination'] = df['destinationIndex'].map(location_mapping)\n",
    "\n",
    "#drop the destination and origin index columns\n",
    "df.drop(['originIndex','destinationIndex'], axis=1, inplace=True)\n",
    "\n",
    "#Rearrange columns\n",
    "df = df[['origin','destination','travelDistance','travelDuration','Date','Time',]]\n",
    "\n",
    "#Rename columns\n",
    "df.columns = ['origin','destination','travelDistance(km)','travelDuration(mins)','Date','Time',]\n",
    "\n",
    "#view result\n",
    "df.head()"
   ]
  },
  {
   "cell_type": "markdown",
   "id": "7c7dde96-3da6-443b-aa98-52853e06cfd1",
   "metadata": {},
   "source": [
    "#### 3.6) Clean and Format Data for Appending to Google Drive Storage"
   ]
  },
  {
   "cell_type": "code",
   "execution_count": 11,
   "id": "f3e476e8-37e7-455d-b521-20d17f242fb2",
   "metadata": {},
   "outputs": [
    {
     "name": "stdout",
     "output_type": "stream",
     "text": [
      "<class 'pandas.core.frame.DataFrame'>\n",
      "Int64Index: 600 entries, 1 to 623\n",
      "Data columns (total 6 columns):\n",
      " #   Column                Non-Null Count  Dtype \n",
      "---  ------                --------------  ----- \n",
      " 0   origin                600 non-null    object\n",
      " 1   destination           600 non-null    object\n",
      " 2   travelDistance(km)    600 non-null    int32 \n",
      " 3   travelDuration(mins)  600 non-null    int32 \n",
      " 4   Date                  600 non-null    object\n",
      " 5   Time                  600 non-null    object\n",
      "dtypes: int32(2), object(4)\n",
      "memory usage: 28.1+ KB\n"
     ]
    }
   ],
   "source": [
    "#format column data types\n",
    "df[df['travelDistance(km)']>0]\n",
    "df['travelDuration(mins)'] = df['travelDuration(mins)'].astype('int')\n",
    "df['travelDistance(km)'] = df['travelDistance(km)'].astype('int')\n",
    "df['Date'] = df['Date'].astype('str')\n",
    "\n",
    "#drop rows with 'travelDistance' = 0\n",
    "df = df[df['travelDistance(km)']!=0]\n",
    "df.info()"
   ]
  },
  {
   "cell_type": "code",
   "execution_count": 12,
   "id": "ab0cb60e-e84e-4351-bd1a-381572bf1a74",
   "metadata": {},
   "outputs": [
    {
     "data": {
      "text/html": [
       "<div>\n",
       "<style scoped>\n",
       "    .dataframe tbody tr th:only-of-type {\n",
       "        vertical-align: middle;\n",
       "    }\n",
       "\n",
       "    .dataframe tbody tr th {\n",
       "        vertical-align: top;\n",
       "    }\n",
       "\n",
       "    .dataframe thead th {\n",
       "        text-align: right;\n",
       "    }\n",
       "</style>\n",
       "<table border=\"1\" class=\"dataframe\">\n",
       "  <thead>\n",
       "    <tr style=\"text-align: right;\">\n",
       "      <th></th>\n",
       "      <th>origin</th>\n",
       "      <th>destination</th>\n",
       "      <th>travelDistance(km)</th>\n",
       "      <th>travelDuration(mins)</th>\n",
       "      <th>Date</th>\n",
       "      <th>Time</th>\n",
       "    </tr>\n",
       "  </thead>\n",
       "  <tbody>\n",
       "    <tr>\n",
       "      <th>1</th>\n",
       "      <td>festac</td>\n",
       "      <td>ikoyi</td>\n",
       "      <td>23</td>\n",
       "      <td>22</td>\n",
       "      <td>2023-08-18</td>\n",
       "      <td>12:28:56</td>\n",
       "    </tr>\n",
       "    <tr>\n",
       "      <th>2</th>\n",
       "      <td>festac</td>\n",
       "      <td>lekki</td>\n",
       "      <td>30</td>\n",
       "      <td>29</td>\n",
       "      <td>2023-08-18</td>\n",
       "      <td>12:28:56</td>\n",
       "    </tr>\n",
       "    <tr>\n",
       "      <th>3</th>\n",
       "      <td>festac</td>\n",
       "      <td>apapa</td>\n",
       "      <td>15</td>\n",
       "      <td>15</td>\n",
       "      <td>2023-08-18</td>\n",
       "      <td>12:28:56</td>\n",
       "    </tr>\n",
       "    <tr>\n",
       "      <th>4</th>\n",
       "      <td>festac</td>\n",
       "      <td>lagos_island</td>\n",
       "      <td>18</td>\n",
       "      <td>19</td>\n",
       "      <td>2023-08-18</td>\n",
       "      <td>12:28:56</td>\n",
       "    </tr>\n",
       "    <tr>\n",
       "      <th>5</th>\n",
       "      <td>festac</td>\n",
       "      <td>ikeja</td>\n",
       "      <td>25</td>\n",
       "      <td>21</td>\n",
       "      <td>2023-08-18</td>\n",
       "      <td>12:28:56</td>\n",
       "    </tr>\n",
       "  </tbody>\n",
       "</table>\n",
       "</div>"
      ],
      "text/plain": [
       "   origin   destination  travelDistance(km)  travelDuration(mins)        Date  \\\n",
       "1  festac         ikoyi                  23                    22  2023-08-18   \n",
       "2  festac         lekki                  30                    29  2023-08-18   \n",
       "3  festac         apapa                  15                    15  2023-08-18   \n",
       "4  festac  lagos_island                  18                    19  2023-08-18   \n",
       "5  festac         ikeja                  25                    21  2023-08-18   \n",
       "\n",
       "       Time  \n",
       "1  12:28:56  \n",
       "2  12:28:56  \n",
       "3  12:28:56  \n",
       "4  12:28:56  \n",
       "5  12:28:56  "
      ]
     },
     "execution_count": 12,
     "metadata": {},
     "output_type": "execute_result"
    }
   ],
   "source": [
    "df.head()"
   ]
  },
  {
   "cell_type": "markdown",
   "id": "705f7a39-a14a-4e0d-bc93-480a8098aba1",
   "metadata": {
    "jp-MarkdownHeadingCollapsed": true,
    "tags": []
   },
   "source": [
    "### 4) Create and Configure a Googlesheet file ---```Optional```"
   ]
  },
  {
   "cell_type": "markdown",
   "id": "08201178-cdfb-4305-867c-3e79d4b839a1",
   "metadata": {},
   "source": [
    "This project uses an created a GoogleSheet in chosen Drive location once, during the launch. This section will not be included during production."
   ]
  },
  {
   "cell_type": "code",
   "execution_count": null,
   "id": "5c4772cf-c429-45c6-903c-8b0408e97ede",
   "metadata": {},
   "outputs": [],
   "source": [
    "\"\"\"\n",
    "To specify Google Sheets file basic settings and as well as configure default worksheets\n",
    "\"\"\"\n",
    "sheet_body = {\n",
    "    'properties': {\n",
    "        'title': 'Lagos Traffic Data',\n",
    "        'locale': 'en_US', # optional\n",
    "        'autoRecalc': 'ON_CHANGE', # calculation setting #https://developers.google.com/sheets/api/reference/rest/v4/spreadsheets#RecalculationInterval\n",
    "        'timeZone': 'America/Los_Angeles'\n",
    "        }\n",
    "    ,\n",
    "    'sheets': [\n",
    "        {\n",
    "            'properties': {\n",
    "                'title': 'Page_1'\n",
    "            }\n",
    "        },\n",
    "        {\n",
    "            'properties': {\n",
    "                'title': 'Page_2'\n",
    "            }\n",
    "        }\n",
    "    ]\n",
    "}\n",
    "\n",
    "sheets_file1 = service.spreadsheets().create(body=sheet_body).execute()\n",
    "\n",
    "# dict_keys(['spreadsheetId', 'properties', 'sheets', 'spreadsheetUrl'])\n",
    "print(sheets_file1)\n",
    "\n",
    "print(sheets_file1['spreadsheetUrl'])\n",
    "print(sheets_file1['spreadsheetId'])\n",
    "# print(sheets_file1['sheets'])\n",
    "# print(sheets_file1['properties']) # Google Sheets information"
   ]
  },
  {
   "cell_type": "markdown",
   "id": "eedc7439-70cc-405f-b852-b76190b36bfb",
   "metadata": {
    "tags": []
   },
   "source": [
    "### 5) Append the Traffic Data to the GoogleSheet page Using `gspread` Library"
   ]
  },
  {
   "cell_type": "code",
   "execution_count": 15,
   "id": "2421b78c-28a8-4b84-82da-2892a6f00ac4",
   "metadata": {},
   "outputs": [
    {
     "data": {
      "text/plain": [
       "{'spreadsheetId': '1jFiCMs6YdH-WPifPcuae3dxfJagDcxSjzCBzhCGbLiU',\n",
       " 'updates': {'spreadsheetId': '1jFiCMs6YdH-WPifPcuae3dxfJagDcxSjzCBzhCGbLiU',\n",
       "  'updatedRange': 'Page_1!A1:F601',\n",
       "  'updatedRows': 601,\n",
       "  'updatedColumns': 6,\n",
       "  'updatedCells': 3606}}"
      ]
     },
     "execution_count": 15,
     "metadata": {},
     "output_type": "execute_result"
    }
   ],
   "source": [
    "#Define the scopes\n",
    "scopes = ['https://www.googleapis.com/auth/spreadsheets','https://www.googleapis.com/auth/drive']\n",
    "\n",
    "#Create credentials\n",
    "credentials = Credentials.from_service_account_file('maps_project_secret_keys.json', scopes=scopes)\n",
    "\n",
    "#Initialize gspread with created credentials\n",
    "gc = gspread.authorize(credentials)\n",
    "\n",
    "#\n",
    "gauth = GoogleAuth()\n",
    "drive = GoogleDrive(gauth)\n",
    "\n",
    "#\n",
    "testsheet_key = '1jFiCMs6YdH-WPifPcuae3dxfJagDcxSjzCBzhCGbLiU'\n",
    "sheetid = '5865198'\n",
    "\n",
    "# Open a google sheet\n",
    "#gs = gc.open_by_key(sheets_file1['spreadsheetId'])\n",
    "gs = gc.open_by_key(testsheet_key)\n",
    "\n",
    "#Append\n",
    "\n",
    "#sds\n",
    "df_values = [df.columns.values.tolist()] + df.values.tolist()\n",
    "\n",
    "#sds\n",
    "gs.values_append('Page_1', {'valueInputOption': 'RAW'}, {'values': df_values})"
   ]
  },
  {
   "cell_type": "code",
   "execution_count": 17,
   "id": "38789620-99b3-4e6a-94bc-39aec6d396d0",
   "metadata": {},
   "outputs": [
    {
     "data": {
      "text/html": [
       "<div>\n",
       "<style scoped>\n",
       "    .dataframe tbody tr th:only-of-type {\n",
       "        vertical-align: middle;\n",
       "    }\n",
       "\n",
       "    .dataframe tbody tr th {\n",
       "        vertical-align: top;\n",
       "    }\n",
       "\n",
       "    .dataframe thead th {\n",
       "        text-align: right;\n",
       "    }\n",
       "</style>\n",
       "<table border=\"1\" class=\"dataframe\">\n",
       "  <thead>\n",
       "    <tr style=\"text-align: right;\">\n",
       "      <th></th>\n",
       "      <th>origin</th>\n",
       "      <th>destination</th>\n",
       "      <th>travelDistance(km)</th>\n",
       "      <th>travelDuration(mins)</th>\n",
       "      <th>Date</th>\n",
       "      <th>Time</th>\n",
       "    </tr>\n",
       "  </thead>\n",
       "  <tbody>\n",
       "    <tr>\n",
       "      <th>0</th>\n",
       "      <td>festac</td>\n",
       "      <td>ikoyi</td>\n",
       "      <td>23</td>\n",
       "      <td>22</td>\n",
       "      <td>2023-08-18</td>\n",
       "      <td>12:28:56</td>\n",
       "    </tr>\n",
       "    <tr>\n",
       "      <th>1</th>\n",
       "      <td>festac</td>\n",
       "      <td>lekki</td>\n",
       "      <td>30</td>\n",
       "      <td>29</td>\n",
       "      <td>2023-08-18</td>\n",
       "      <td>12:28:56</td>\n",
       "    </tr>\n",
       "    <tr>\n",
       "      <th>2</th>\n",
       "      <td>festac</td>\n",
       "      <td>apapa</td>\n",
       "      <td>15</td>\n",
       "      <td>15</td>\n",
       "      <td>2023-08-18</td>\n",
       "      <td>12:28:56</td>\n",
       "    </tr>\n",
       "    <tr>\n",
       "      <th>3</th>\n",
       "      <td>festac</td>\n",
       "      <td>lagos_island</td>\n",
       "      <td>18</td>\n",
       "      <td>19</td>\n",
       "      <td>2023-08-18</td>\n",
       "      <td>12:28:56</td>\n",
       "    </tr>\n",
       "    <tr>\n",
       "      <th>4</th>\n",
       "      <td>festac</td>\n",
       "      <td>ikeja</td>\n",
       "      <td>25</td>\n",
       "      <td>21</td>\n",
       "      <td>2023-08-18</td>\n",
       "      <td>12:28:56</td>\n",
       "    </tr>\n",
       "    <tr>\n",
       "      <th>...</th>\n",
       "      <td>...</td>\n",
       "      <td>...</td>\n",
       "      <td>...</td>\n",
       "      <td>...</td>\n",
       "      <td>...</td>\n",
       "      <td>...</td>\n",
       "    </tr>\n",
       "    <tr>\n",
       "      <th>595</th>\n",
       "      <td>VI</td>\n",
       "      <td>ikotun</td>\n",
       "      <td>32</td>\n",
       "      <td>35</td>\n",
       "      <td>2023-08-18</td>\n",
       "      <td>12:28:56</td>\n",
       "    </tr>\n",
       "    <tr>\n",
       "      <th>596</th>\n",
       "      <td>VI</td>\n",
       "      <td>badagry</td>\n",
       "      <td>72</td>\n",
       "      <td>56</td>\n",
       "      <td>2023-08-18</td>\n",
       "      <td>12:28:56</td>\n",
       "    </tr>\n",
       "    <tr>\n",
       "      <th>597</th>\n",
       "      <td>VI</td>\n",
       "      <td>abule_egba</td>\n",
       "      <td>37</td>\n",
       "      <td>32</td>\n",
       "      <td>2023-08-18</td>\n",
       "      <td>12:28:56</td>\n",
       "    </tr>\n",
       "    <tr>\n",
       "      <th>598</th>\n",
       "      <td>VI</td>\n",
       "      <td>ipaja</td>\n",
       "      <td>36</td>\n",
       "      <td>34</td>\n",
       "      <td>2023-08-18</td>\n",
       "      <td>12:28:56</td>\n",
       "    </tr>\n",
       "    <tr>\n",
       "      <th>599</th>\n",
       "      <td>VI</td>\n",
       "      <td>idiaraba</td>\n",
       "      <td>16</td>\n",
       "      <td>16</td>\n",
       "      <td>2023-08-18</td>\n",
       "      <td>12:28:56</td>\n",
       "    </tr>\n",
       "  </tbody>\n",
       "</table>\n",
       "<p>600 rows × 6 columns</p>\n",
       "</div>"
      ],
      "text/plain": [
       "     origin   destination  travelDistance(km)  travelDuration(mins)  \\\n",
       "0    festac         ikoyi                  23                    22   \n",
       "1    festac         lekki                  30                    29   \n",
       "2    festac         apapa                  15                    15   \n",
       "3    festac  lagos_island                  18                    19   \n",
       "4    festac         ikeja                  25                    21   \n",
       "..      ...           ...                 ...                   ...   \n",
       "595      VI        ikotun                  32                    35   \n",
       "596      VI       badagry                  72                    56   \n",
       "597      VI    abule_egba                  37                    32   \n",
       "598      VI         ipaja                  36                    34   \n",
       "599      VI      idiaraba                  16                    16   \n",
       "\n",
       "           Date      Time  \n",
       "0    2023-08-18  12:28:56  \n",
       "1    2023-08-18  12:28:56  \n",
       "2    2023-08-18  12:28:56  \n",
       "3    2023-08-18  12:28:56  \n",
       "4    2023-08-18  12:28:56  \n",
       "..          ...       ...  \n",
       "595  2023-08-18  12:28:56  \n",
       "596  2023-08-18  12:28:56  \n",
       "597  2023-08-18  12:28:56  \n",
       "598  2023-08-18  12:28:56  \n",
       "599  2023-08-18  12:28:56  \n",
       "\n",
       "[600 rows x 6 columns]"
      ]
     },
     "execution_count": 17,
     "metadata": {},
     "output_type": "execute_result"
    }
   ],
   "source": [
    "#Reading data from Googlesheets using pandas\n",
    "import pandas as pd\n",
    "\n",
    "sheet_id = '1jFiCMs6YdH-WPifPcuae3dxfJagDcxSjzCBzhCGbLiU'\n",
    "sheet_name = 'Page_1'\n",
    "url = 'https://docs.google.com/spreadsheets/d/e/2PACX-1vSSoujMBdosA9vRiAY_rQPJjuMPGOww6POCtaVdWpc1scAklGhYGk_6243ux7Sj9KK2mQJ598W9bL1V/pub?output=xlsx'\n",
    "\n",
    "pd.read_excel(url)"
   ]
  },
  {
   "cell_type": "code",
   "execution_count": 16,
   "id": "f440c368-cde6-4c40-9179-579415ffc713",
   "metadata": {},
   "outputs": [
    {
     "data": {
      "text/html": [
       "<div>\n",
       "<style scoped>\n",
       "    .dataframe tbody tr th:only-of-type {\n",
       "        vertical-align: middle;\n",
       "    }\n",
       "\n",
       "    .dataframe tbody tr th {\n",
       "        vertical-align: top;\n",
       "    }\n",
       "\n",
       "    .dataframe thead th {\n",
       "        text-align: right;\n",
       "    }\n",
       "</style>\n",
       "<table border=\"1\" class=\"dataframe\">\n",
       "  <thead>\n",
       "    <tr style=\"text-align: right;\">\n",
       "      <th></th>\n",
       "      <th>origin</th>\n",
       "      <th>destination</th>\n",
       "      <th>travelDistance(km)</th>\n",
       "      <th>travelDuration(mins)</th>\n",
       "      <th>Date</th>\n",
       "      <th>Time</th>\n",
       "    </tr>\n",
       "  </thead>\n",
       "  <tbody>\n",
       "    <tr>\n",
       "      <th>0</th>\n",
       "      <td>festac</td>\n",
       "      <td>ikoyi</td>\n",
       "      <td>23</td>\n",
       "      <td>22</td>\n",
       "      <td>2023-08-18</td>\n",
       "      <td>12:28:56</td>\n",
       "    </tr>\n",
       "    <tr>\n",
       "      <th>1</th>\n",
       "      <td>festac</td>\n",
       "      <td>lekki</td>\n",
       "      <td>30</td>\n",
       "      <td>29</td>\n",
       "      <td>2023-08-18</td>\n",
       "      <td>12:28:56</td>\n",
       "    </tr>\n",
       "    <tr>\n",
       "      <th>2</th>\n",
       "      <td>festac</td>\n",
       "      <td>apapa</td>\n",
       "      <td>15</td>\n",
       "      <td>15</td>\n",
       "      <td>2023-08-18</td>\n",
       "      <td>12:28:56</td>\n",
       "    </tr>\n",
       "    <tr>\n",
       "      <th>3</th>\n",
       "      <td>festac</td>\n",
       "      <td>lagos_island</td>\n",
       "      <td>18</td>\n",
       "      <td>19</td>\n",
       "      <td>2023-08-18</td>\n",
       "      <td>12:28:56</td>\n",
       "    </tr>\n",
       "    <tr>\n",
       "      <th>4</th>\n",
       "      <td>festac</td>\n",
       "      <td>ikeja</td>\n",
       "      <td>25</td>\n",
       "      <td>21</td>\n",
       "      <td>2023-08-18</td>\n",
       "      <td>12:28:56</td>\n",
       "    </tr>\n",
       "  </tbody>\n",
       "</table>\n",
       "</div>"
      ],
      "text/plain": [
       "   origin   destination  travelDistance(km)  travelDuration(mins)        Date  \\\n",
       "0  festac         ikoyi                  23                    22  2023-08-18   \n",
       "1  festac         lekki                  30                    29  2023-08-18   \n",
       "2  festac         apapa                  15                    15  2023-08-18   \n",
       "3  festac  lagos_island                  18                    19  2023-08-18   \n",
       "4  festac         ikeja                  25                    21  2023-08-18   \n",
       "\n",
       "       Time  \n",
       "0  12:28:56  \n",
       "1  12:28:56  \n",
       "2  12:28:56  \n",
       "3  12:28:56  \n",
       "4  12:28:56  "
      ]
     },
     "execution_count": 16,
     "metadata": {},
     "output_type": "execute_result"
    }
   ],
   "source": [
    "#Reading data from Googlesheets using gspread\n",
    "import gspread as gs\n",
    "import pandas as pd\n",
    "\n",
    "gc = gs.service_account(filename='maps_project_secret_keys.json')\n",
    "sh = gc.open_by_url('https://docs.google.com/spreadsheets/d/1jFiCMs6YdH-WPifPcuae3dxfJagDcxSjzCBzhCGbLiU/edit?usp=sharing')\n",
    "\n",
    "ws = sh.worksheet('Page_1')\n",
    "df = pd.DataFrame(ws.get_all_records())\n",
    "df.head()"
   ]
  },
  {
   "cell_type": "markdown",
   "id": "aa5b7889-e62d-4e84-a01e-96b95922ed91",
   "metadata": {},
   "source": [
    "### REFERENCES\n",
    "\n",
    "- [Working with GoogleSheets in Python - A Playlist](https://learndataanalysis.org/creating-google-sheets-file-google-sheets-api-in-python-part-1/)\n",
    "\n",
    "- [Appending Data to GoogleSheets - gspread](https://medium.com/@jb.ranchana/write-and-append-dataframes-to-google-sheets-in-python-f62479460cf0)\n",
    "\n",
    "- [Reading Data From GoogleSheets Using Pandas](https://pythoninoffice.com/how-to-read-google-sheet-into-pandas/#google_vignette)\n",
    "\n",
    "- [Reading Data From GoogleSheets Using gspread module](https://practicaldatascience.co.uk/data-science/how-to-read-google-sheets-data-in-pandas-with-gspread)"
   ]
  },
  {
   "cell_type": "code",
   "execution_count": null,
   "id": "97aa82bf-62a8-4aee-a650-645539340bcf",
   "metadata": {},
   "outputs": [],
   "source": [
    "#!pip install gspread\n",
    "#!pip install gspread_dataframe --quiet"
   ]
  }
 ],
 "metadata": {
  "kernelspec": {
   "display_name": "Python 3 (ipykernel)",
   "language": "python",
   "name": "python3"
  },
  "language_info": {
   "codemirror_mode": {
    "name": "ipython",
    "version": 3
   },
   "file_extension": ".py",
   "mimetype": "text/x-python",
   "name": "python",
   "nbconvert_exporter": "python",
   "pygments_lexer": "ipython3",
   "version": "3.8.13"
  }
 },
 "nbformat": 4,
 "nbformat_minor": 5
}
